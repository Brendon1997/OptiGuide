{
 "cells": [
  {
   "cell_type": "markdown",
   "id": "a461c72d",
   "metadata": {
    "id": "a461c72d"
   },
   "source": [
    "# OptiGuide Example with Pyomo\n",
    "\n",
    "\n",
    "Authors: [Phuc Van Phan](https://github.com/pphuc25), [Alfredo Hernandez](https://github.com/alfredoihernandez), [Beibin Li](https://github.com/beibinli)\n",
    "\n"
   ]
  },
  {
   "cell_type": "markdown",
   "id": "59a05fc7",
   "metadata": {
    "id": "59a05fc7"
   },
   "source": [
    "For this notebook, we mainly introduce how to use Pyomo with OptiGuide, and we skipped the overview of OptiGuide what-if analysis. If you haven't checked the [OptiGuide example with Gurobi](optiguide_example.ipynb), please check it first.\n"
   ]
  },
  {
   "cell_type": "code",
   "execution_count": 1,
   "id": "ReAgLnDma3oI",
   "metadata": {
    "colab": {
     "base_uri": "https://localhost:8080/"
    },
    "id": "ReAgLnDma3oI",
    "outputId": "c95a23e8-ddb9-4fd2-f218-c40a51cbcbb0"
   },
   "outputs": [],
   "source": [
    "# Install Required Packages\n",
    "# %pip install optiguide"
   ]
  },
  {
   "cell_type": "code",
   "execution_count": 2,
   "id": "9a3b79c4",
   "metadata": {
    "id": "9a3b79c4"
   },
   "outputs": [],
   "source": [
    "# test Gurobi installation\n",
    "import gurobipy as gp\n",
    "from gurobipy import GRB\n",
    "from eventlet.timeout import Timeout\n",
    "\n",
    "# import auxillary packages\n",
    "import requests  # for loading the example source code\n",
    "import openai\n",
    "\n",
    "# import autogen\n",
    "import autogen\n",
    "from autogen.agentchat import Agent, UserProxyAgent\n",
    "from optiguide import OptiGuideAgent"
   ]
  },
  {
   "cell_type": "code",
   "execution_count": 3,
   "id": "aedf19e7",
   "metadata": {
    "id": "aedf19e7"
   },
   "outputs": [],
   "source": [
    "config_list = autogen.config_list_from_json(\n",
    "    \"OAI_CONFIG_LIST\",\n",
    "    filter_dict={\n",
    "        \"model\": {\n",
    "            \"gpt-4o\",\n",
    "        }\n",
    "    }\n",
    ")"
   ]
  },
  {
   "cell_type": "markdown",
   "id": "e9e7e728",
   "metadata": {
    "id": "e9e7e728"
   },
   "source": [
    "Now, let's import the source code (loading from URL) and also some training examples (defined as string blow)."
   ]
  },
  {
   "cell_type": "code",
   "execution_count": 4,
   "id": "ca962ac5",
   "metadata": {
    "colab": {
     "base_uri": "https://localhost:8080/"
    },
    "id": "ca962ac5",
    "outputId": "4a789991-8ba1-46f3-aad5-7fbaaaff7f02"
   },
   "outputs": [
    {
     "name": "stdout",
     "output_type": "stream",
     "text": [
      "import time\n",
      "\n",
      "from pyomo.environ import (ConcreteModel, Constraint, Integers, Objective,\n",
      "                           SolverFactory, TerminationCondition, Var, minimize)\n",
      "\n",
      "# Example data\n",
      "capacity_in_supplier = {'supplier1': 150, 'supplier2': 50, 'supplier3': 100}\n",
      "shipping_cost_from_supplier_to_roastery = {\n",
      "    ('supplier1', 'roastery1'): 5,\n",
      "    ('supplier1', 'roastery2'): 4,\n",
      ".\n",
      ".\n",
      ".\n",
      "\n",
      "# You can change the solver as per your requirement\n",
      "m = solver.solve(model)\n",
      "\n",
      "print(time.ctime())\n",
      "if m.solver.termination_condition == TerminationCondition.optimal:\n",
      "    print(f'Optimal cost: {model.obj()}')\n",
      "else:\n",
      "    print(\"Not solved to optimality. Optimization status:\",\n",
      "          m.solver.termination_condition)\n",
      "\n"
     ]
    }
   ],
   "source": [
    "# Get the source code of our coffee example\n",
    "code_url = \"https://raw.githubusercontent.com/microsoft/OptiGuide/main/benchmark/application/coffee_pyomo.py\"\n",
    "response  = requests.get(code_url)\n",
    "\n",
    "\n",
    "# Check if the request was successful\n",
    "if response.status_code == 200:\n",
    "    # Get the text content from the response\n",
    "    code = response.text\n",
    "else:\n",
    "    raise RuntimeError(\"Failed to retrieve the file.\")\n",
    "# code = open(\"../benchmark/application/coffee_pyomo.py\", \"r\").read() # for local files\n",
    "\n",
    "\n",
    "# show the first head and tail of the source code\n",
    "print(\"\\n\".join(code.split(\"\\n\")[:10]))\n",
    "print(\".\\n\" * 3)\n",
    "print(\"\\n\".join(code.split(\"\\n\")[-10:]))"
   ]
  },
  {
   "cell_type": "code",
   "execution_count": 5,
   "id": "e31c4b36",
   "metadata": {
    "code_folding": [],
    "id": "e31c4b36"
   },
   "outputs": [],
   "source": [
    "# In-context learning examples.\n",
    "pyomo_example_qa = \"\"\"\n",
    "----------\n",
    "Question: Why is it not recommended to use just one supplier for roastery 2?\n",
    "Answer Code:\n",
    "```python\n",
    "m.z = Var(suppliers, domain=Binary, bounds=(0, None))\n",
    "def one_supplier_constraint(m):\n",
    "    return sum(m.z[s] for s in suppliers) <= 1\n",
    "m.OneSupplierConstraint = Constraint(rule=one_supplier_constraint)\n",
    "def roastery_2_demand_met_constraint(m, s):\n",
    "    return m.x[s,'roastery2'] <= capacity_in_supplier[s] * m.z[s]\n",
    "m.Roastery2DemandMetConstraint = Constraint(suppliers, rule=roastery_2_demand_met_constraint)\n",
    "```\n",
    "\n",
    "----------\n",
    "Question: What if there's a 13% jump in the demand for light coffee at cafe1?\n",
    "Answer Code:\n",
    "```python\n",
    "light_coffee_needed_for_cafe[\"cafe1\"] = light_coffee_needed_for_cafe[\"cafe1\"] * (1 + 13/100)\n",
    "```\n",
    "\"\"\""
   ]
  },
  {
   "cell_type": "markdown",
   "id": "5a5a7d7e",
   "metadata": {
    "id": "5a5a7d7e"
   },
   "source": [
    "Now, let's create an OptiGuide agent and also a user.\n",
    "\n",
    "For the OptiGuide agent, we only allow \"debug_times\" to be 1, which means it can debug its answer once if it encountered errors."
   ]
  },
  {
   "cell_type": "code",
   "execution_count": 6,
   "id": "af53727c",
   "metadata": {
    "id": "af53727c"
   },
   "outputs": [
    {
     "name": "stdout",
     "output_type": "stream",
     "text": [
      "Sun Oct 27 20:52:35 2024\n",
      "Optimal cost: 2470.0\n"
     ]
    }
   ],
   "source": [
    "agent = OptiGuideAgent(\n",
    "    name=\"OptiGuideCoffeeExample\",\n",
    "    source_code=code,\n",
    "    debug_times=5,\n",
    "    example_qa=pyomo_example_qa,\n",
    "    solver_software=\"pyomo\",\n",
    "    use_safeguard=True,\n",
    "    llm_config={\n",
    "        \"seed\": 42,\n",
    "        \"config_list\": config_list,\n",
    "    }\n",
    ")\n",
    "\n",
    "user = UserProxyAgent(\n",
    "    \"user\", max_consecutive_auto_reply=0,\n",
    "    human_input_mode=\"NEVER\", code_execution_config=False\n",
    ")"
   ]
  },
  {
   "cell_type": "markdown",
   "id": "bd615e87",
   "metadata": {
    "id": "bd615e87"
   },
   "source": [
    "Now, let's create a user's question."
   ]
  },
  {
   "cell_type": "code",
   "execution_count": 7,
   "id": "24a76f67",
   "metadata": {
    "colab": {
     "base_uri": "https://localhost:8080/"
    },
    "id": "24a76f67",
    "outputId": "2399e32e-fe3f-429f-9c40-fcc75605741d"
   },
   "outputs": [
    {
     "name": "stdout",
     "output_type": "stream",
     "text": [
      "\u001b[33muser\u001b[0m (to OptiGuideCoffeeExample):\n",
      "\n",
      "Why is it not recommended to use just one supplier for roastery 2?\n",
      "\n",
      "--------------------------------------------------------------------------------\n",
      "\u001b[33mOptiGuideCoffeeExample\u001b[0m (to writer):\n",
      "\n",
      "\n",
      "Answer Code:\n",
      "\n",
      "\n",
      "--------------------------------------------------------------------------------\n",
      "\u001b[33mwriter\u001b[0m (to OptiGuideCoffeeExample):\n",
      "\n",
      "```python\n",
      "m.z = Var(suppliers, domain=Binary, bounds=(0, None))\n",
      "\n",
      "def one_supplier_constraint(m):\n",
      "    return sum(m.z[s] for s in suppliers) <= 1\n",
      "\n",
      "m.OneSupplierConstraint = Constraint(rule=one_supplier_constraint)\n",
      "\n",
      "def roastery_2_demand_met_constraint(m, s):\n",
      "    return m.x[s,'roastery2'] <= capacity_in_supplier[s] * m.z[s]\n",
      "\n",
      "m.Roastery2DemandMetConstraint = Constraint(suppliers, rule=roastery_2_demand_met_constraint)\n",
      "```\n",
      "\n",
      "--------------------------------------------------------------------------------\n",
      "\u001b[33mOptiGuideCoffeeExample\u001b[0m (to safeguard):\n",
      "\n",
      "\n",
      "--- Code ---\n",
      "m.z = Var(suppliers, domain=Binary, bounds=(0, None))\n",
      "\n",
      "def one_supplier_constraint(m):\n",
      "    return sum(m.z[s] for s in suppliers) <= 1\n",
      "\n",
      "m.OneSupplierConstraint = Constraint(rule=one_supplier_constraint)\n",
      "\n",
      "def roastery_2_demand_met_constraint(m, s):\n",
      "    return m.x[s,'roastery2'] <= capacity_in_supplier[s] * m.z[s]\n",
      "\n",
      "m.Roastery2DemandMetConstraint = Constraint(suppliers, rule=roastery_2_demand_met_constraint)\n",
      "\n",
      "--- One-Word Answer: SAFE or DANGER ---\n",
      "\n",
      "\n",
      "--------------------------------------------------------------------------------\n",
      "\u001b[33msafeguard\u001b[0m (to OptiGuideCoffeeExample):\n",
      "\n",
      "SAFE\n",
      "\n",
      "--------------------------------------------------------------------------------\n",
      "\u001b[33mname 'Binary' is not defined\u001b[0m\n",
      "\u001b[33mOptiGuideCoffeeExample\u001b[0m (to writer):\n",
      "\n",
      "\n",
      "\n",
      "While running the code you suggested, I encountered the <class 'NameError'>:\n",
      "--- ERROR MESSAGE ---\n",
      "name 'Binary' is not defined\n",
      "\n",
      "Please try to resolve this bug, and rewrite the code snippet.\n",
      "--- NEW CODE ---\n",
      "\n",
      "\n",
      "--------------------------------------------------------------------------------\n",
      "\u001b[33mwriter\u001b[0m (to OptiGuideCoffeeExample):\n",
      "\n",
      "```python\n",
      "from pyomo.environ import Binary\n",
      "\n",
      "m.z = Var(suppliers, domain=Binary)\n",
      "\n",
      "def one_supplier_constraint(m):\n",
      "    return sum(m.z[s] for s in suppliers) <= 1\n",
      "\n",
      "m.OneSupplierConstraint = Constraint(rule=one_supplier_constraint)\n",
      "\n",
      "def roastery_2_demand_met_constraint(m, s):\n",
      "    return m.x[s,'roastery2'] <= capacity_in_supplier[s] * m.z[s]\n",
      "\n",
      "m.Roastery2DemandMetConstraint = Constraint(suppliers, rule=roastery_2_demand_met_constraint)\n",
      "```\n",
      "\n",
      "--------------------------------------------------------------------------------\n",
      "\u001b[33mOptiGuideCoffeeExample\u001b[0m (to safeguard):\n",
      "\n",
      "\n",
      "--- Code ---\n",
      "from pyomo.environ import Binary\n",
      "\n",
      "m.z = Var(suppliers, domain=Binary)\n",
      "\n",
      "def one_supplier_constraint(m):\n",
      "    return sum(m.z[s] for s in suppliers) <= 1\n",
      "\n",
      "m.OneSupplierConstraint = Constraint(rule=one_supplier_constraint)\n",
      "\n",
      "def roastery_2_demand_met_constraint(m, s):\n",
      "    return m.x[s,'roastery2'] <= capacity_in_supplier[s] * m.z[s]\n",
      "\n",
      "m.Roastery2DemandMetConstraint = Constraint(suppliers, rule=roastery_2_demand_met_constraint)\n",
      "\n",
      "--- One-Word Answer: SAFE or DANGER ---\n",
      "\n",
      "\n",
      "--------------------------------------------------------------------------------\n",
      "\u001b[33msafeguard\u001b[0m (to OptiGuideCoffeeExample):\n",
      "\n",
      "SAFE\n",
      "\n",
      "--------------------------------------------------------------------------------\n",
      "Sun Oct 27 20:52:39 2024\n",
      "Optimal cost: 2520.0\n",
      "\u001b[33mOptimization problem solved. The objective value is: 2520.0\u001b[0m\n",
      "\u001b[33mOptiGuideCoffeeExample\u001b[0m (to writer):\n",
      "\n",
      "Here are the execution results: Optimization problem solved. The objective value is: 2520.0\n",
      "\n",
      "Can you organize these information to a human readable answer?\n",
      "Remember to compare the new results to the original results you obtained in the\n",
      "beginning.\n",
      "\n",
      "--- HUMAN READABLE ANSWER ---\n",
      "\n",
      "\n",
      "--------------------------------------------------------------------------------\n",
      "\u001b[33mwriter\u001b[0m (to OptiGuideCoffeeExample):\n",
      "\n",
      "The code was successfully updated to handle the scenario of using only one supplier for roastery 2. The updated constraints restrict the selection to just one supplier, which is reflected in the results.\n",
      "\n",
      "Originally, the optimization problem provided an objective value of 2470.0. However, with the new restriction applied, the objective value increased to 2520.0. This indicates that enforcing the constraint of using just one supplier for roastery 2 raised the overall cost of the supply chain, demonstrating the trade-off between logistical flexibility and cost efficiency. \n",
      "\n",
      "Therefore, while restricting the supply to one supplier simplifies logistics, it may not be the most cost-effective solution.\n",
      "\n",
      "--------------------------------------------------------------------------------\n",
      "\u001b[33mOptiGuideCoffeeExample\u001b[0m (to user):\n",
      "\n",
      "The code was successfully updated to handle the scenario of using only one supplier for roastery 2. The updated constraints restrict the selection to just one supplier, which is reflected in the results.\n",
      "\n",
      "Originally, the optimization problem provided an objective value of 2470.0. However, with the new restriction applied, the objective value increased to 2520.0. This indicates that enforcing the constraint of using just one supplier for roastery 2 raised the overall cost of the supply chain, demonstrating the trade-off between logistical flexibility and cost efficiency. \n",
      "\n",
      "Therefore, while restricting the supply to one supplier simplifies logistics, it may not be the most cost-effective solution.\n",
      "\n",
      "--------------------------------------------------------------------------------\n"
     ]
    }
   ],
   "source": [
    "# user.initiate_chat(agent, message=\"What if we prohibit shipping from supplier 1 to roastery 2?\")\n",
    "ans = user.initiate_chat(agent, message=\"Why is it not recommended to use just one supplier for roastery 2?\")"
   ]
  },
  {
   "cell_type": "code",
   "execution_count": 8,
   "id": "781a842c-7ac7-4db4-a2c8-143be0c57693",
   "metadata": {},
   "outputs": [
    {
     "name": "stdout",
     "output_type": "stream",
     "text": [
      "The code was successfully updated to handle the scenario of using only one supplier for roastery 2. The updated constraints restrict the selection to just one supplier, which is reflected in the results.\n",
      "\n",
      "Originally, the optimization problem provided an objective value of 2470.0. However, with the new restriction applied, the objective value increased to 2520.0. This indicates that enforcing the constraint of using just one supplier for roastery 2 raised the overall cost of the supply chain, demonstrating the trade-off between logistical flexibility and cost efficiency. \n",
      "\n",
      "Therefore, while restricting the supply to one supplier simplifies logistics, it may not be the most cost-effective solution.\n"
     ]
    }
   ],
   "source": [
    "print(ans.summary)"
   ]
  },
  {
   "cell_type": "code",
   "execution_count": 9,
   "id": "cbdd1f28",
   "metadata": {
    "colab": {
     "base_uri": "https://localhost:8080/"
    },
    "id": "cbdd1f28",
    "outputId": "c5e943cf-fce7-4484-8cd8-433d4fede8e5"
   },
   "outputs": [
    {
     "name": "stdout",
     "output_type": "stream",
     "text": [
      "\u001b[33muser\u001b[0m (to OptiGuideCoffeeExample):\n",
      "\n",
      "What is the impact of supplier1 being able to supply only half the quantity at present?\n",
      "\n",
      "--------------------------------------------------------------------------------\n",
      "\u001b[33mOptiGuideCoffeeExample\u001b[0m (to writer):\n",
      "\n",
      "\n",
      "Answer Code:\n",
      "\n",
      "\n",
      "--------------------------------------------------------------------------------\n",
      "\u001b[33mwriter\u001b[0m (to OptiGuideCoffeeExample):\n",
      "\n",
      "```python\n",
      "capacity_in_supplier['supplier1'] = capacity_in_supplier['supplier1'] * 0.5\n",
      "```\n",
      "\n",
      "--------------------------------------------------------------------------------\n",
      "\u001b[33mOptiGuideCoffeeExample\u001b[0m (to safeguard):\n",
      "\n",
      "\n",
      "--- Code ---\n",
      "capacity_in_supplier['supplier1'] = capacity_in_supplier['supplier1'] * 0.5\n",
      "\n",
      "--- One-Word Answer: SAFE or DANGER ---\n",
      "\n",
      "\n",
      "--------------------------------------------------------------------------------\n",
      "\u001b[33msafeguard\u001b[0m (to OptiGuideCoffeeExample):\n",
      "\n",
      "SAFE\n",
      "\n",
      "--------------------------------------------------------------------------------\n",
      "Sun Oct 27 20:52:42 2024\n",
      "Not solved to optimality. Optimization status: infeasible\n",
      "\u001b[33minfeasible\u001b[0m\n",
      "\u001b[33mOptiGuideCoffeeExample\u001b[0m (to writer):\n",
      "\n",
      "Here are the execution results: infeasible\n",
      "\n",
      "Can you organize these information to a human readable answer?\n",
      "Remember to compare the new results to the original results you obtained in the\n",
      "beginning.\n",
      "\n",
      "--- HUMAN READABLE ANSWER ---\n",
      "\n",
      "\n",
      "--------------------------------------------------------------------------------\n",
      "\u001b[33mwriter\u001b[0m (to OptiGuideCoffeeExample):\n",
      "\n",
      "The impact of supplier1 being able to supply only half the quantity at present has led to the optimization problem becoming infeasible. This means that with the reduced supply capacity from supplier1, it is not possible to meet all demand requirements, including the supply to roasteries and eventually to the cafes.\n",
      "\n",
      "Originally, the problem was solved optimally with an objective value of 2470.0, indicating a feasible solution that met all constraints such as supply, demand, and flow requirements. However, with the constraint on supplier1 halved, the supply from supplier1 is insufficient to meet the demands of the network while satisfying all constraints, resulting in an infeasible solution.\n",
      "\n",
      "Therefore, adjustments in supply from other suppliers, alternative sourcing strategies, or demand management would be necessary to achieve feasibility under these new conditions.\n",
      "\n",
      "--------------------------------------------------------------------------------\n",
      "\u001b[33mOptiGuideCoffeeExample\u001b[0m (to user):\n",
      "\n",
      "The impact of supplier1 being able to supply only half the quantity at present has led to the optimization problem becoming infeasible. This means that with the reduced supply capacity from supplier1, it is not possible to meet all demand requirements, including the supply to roasteries and eventually to the cafes.\n",
      "\n",
      "Originally, the problem was solved optimally with an objective value of 2470.0, indicating a feasible solution that met all constraints such as supply, demand, and flow requirements. However, with the constraint on supplier1 halved, the supply from supplier1 is insufficient to meet the demands of the network while satisfying all constraints, resulting in an infeasible solution.\n",
      "\n",
      "Therefore, adjustments in supply from other suppliers, alternative sourcing strategies, or demand management would be necessary to achieve feasibility under these new conditions.\n",
      "\n",
      "--------------------------------------------------------------------------------\n"
     ]
    }
   ],
   "source": [
    "ans2 = user.initiate_chat(agent, message=\"What is the impact of supplier1 being able to supply only half the quantity at present?\")"
   ]
  },
  {
   "cell_type": "code",
   "execution_count": 10,
   "id": "f2c6335a-72ce-4397-8b6c-3713dcd1609d",
   "metadata": {},
   "outputs": [
    {
     "name": "stdout",
     "output_type": "stream",
     "text": [
      "The impact of supplier1 being able to supply only half the quantity at present has led to the optimization problem becoming infeasible. This means that with the reduced supply capacity from supplier1, it is not possible to meet all demand requirements, including the supply to roasteries and eventually to the cafes.\n",
      "\n",
      "Originally, the problem was solved optimally with an objective value of 2470.0, indicating a feasible solution that met all constraints such as supply, demand, and flow requirements. However, with the constraint on supplier1 halved, the supply from supplier1 is insufficient to meet the demands of the network while satisfying all constraints, resulting in an infeasible solution.\n",
      "\n",
      "Therefore, adjustments in supply from other suppliers, alternative sourcing strategies, or demand management would be necessary to achieve feasibility under these new conditions.\n"
     ]
    }
   ],
   "source": [
    "print(ans2.summary)"
   ]
  }
 ],
 "metadata": {
  "colab": {
   "provenance": []
  },
  "kernelspec": {
   "display_name": "Python 3 (ipykernel)",
   "language": "python",
   "name": "python3"
  },
  "language_info": {
   "codemirror_mode": {
    "name": "ipython",
    "version": 3
   },
   "file_extension": ".py",
   "mimetype": "text/x-python",
   "name": "python",
   "nbconvert_exporter": "python",
   "pygments_lexer": "ipython3",
   "version": "3.10.13"
  },
  "toc": {
   "base_numbering": 1,
   "nav_menu": {},
   "number_sections": true,
   "sideBar": true,
   "skip_h1_title": false,
   "title_cell": "Table of Contents",
   "title_sidebar": "Contents",
   "toc_cell": false,
   "toc_position": {},
   "toc_section_display": true,
   "toc_window_display": false
  }
 },
 "nbformat": 4,
 "nbformat_minor": 5
}
